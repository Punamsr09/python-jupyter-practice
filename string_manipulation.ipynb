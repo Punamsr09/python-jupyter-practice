{
 "cells": [
  {
   "cell_type": "code",
   "execution_count": 30,
   "id": "c06db9ce-dae9-422e-a520-6755fdbd92af",
   "metadata": {},
   "outputs": [
    {
     "name": "stdout",
     "output_type": "stream",
     "text": [
      "I love skiing. It's my life.\n"
     ]
    }
   ],
   "source": [
    "testimonials ='''I love skiing. It's my favorite hobby. Some people say, \"It's not a hobby, it's a life.\"'''\n",
    "short_testimonials = testimonials [:23] + testimonials [-6:-1]\n",
    "print(short_testimonials)"
   ]
  },
  {
   "cell_type": "code",
   "execution_count": 32,
   "id": "bd9fb255-cbe5-4e5a-8eb6-22b17f15b815",
   "metadata": {},
   "outputs": [
    {
     "name": "stdout",
     "output_type": "stream",
     "text": [
      "I love my life!\n"
     ]
    }
   ],
   "source": [
    "happy_customer = short_testimonials[:7] + short_testimonials[-8:-1] + '!'\n",
    "print(happy_customer)"
   ]
  },
  {
   "cell_type": "code",
   "execution_count": 33,
   "id": "ea87d13e-4e61-4ae8-8dc1-c293b48bede4",
   "metadata": {},
   "outputs": [
    {
     "data": {
      "text/plain": [
       "12"
      ]
     },
     "execution_count": 33,
     "metadata": {},
     "output_type": "execute_result"
    }
   ],
   "source": [
    "len('i love sushi')"
   ]
  },
  {
   "cell_type": "code",
   "execution_count": 34,
   "id": "5f0f2312-753c-476e-9960-2331674de62f",
   "metadata": {},
   "outputs": [
    {
     "data": {
      "text/plain": [
       "21"
      ]
     },
     "execution_count": 34,
     "metadata": {},
     "output_type": "execute_result"
    }
   ],
   "source": [
    "len('sushi, samosa, pakoda')"
   ]
  },
  {
   "cell_type": "code",
   "execution_count": 35,
   "id": "1026e364-f6c8-452d-b0f4-a319fdfe8268",
   "metadata": {},
   "outputs": [
    {
     "data": {
      "text/plain": [
       "9"
      ]
     },
     "execution_count": 35,
     "metadata": {},
     "output_type": "execute_result"
    }
   ],
   "source": [
    "len('pinak das')"
   ]
  },
  {
   "cell_type": "code",
   "execution_count": 37,
   "id": "39a09f7e-019e-4cc2-826b-3c2f966455d9",
   "metadata": {},
   "outputs": [
    {
     "name": "stdout",
     "output_type": "stream",
     "text": [
      "maven\n"
     ]
    }
   ],
   "source": [
    "alphabet = 'abcdefghijklmnopqrstuvwxyz'\n",
    "message1 = 'Hello World!'\n",
    "message2 = ''\n",
    "message3 = 'It snowed a lot today'\n",
    "message4 = 'eeee'\n",
    "message5 = 'I love snow!!'\n",
    "password = alphabet[len(message1)] + alphabet[len(message2)] + alphabet[len(message3)] + alphabet[len(message4)] + alphabet[len(message5)]\n",
    "print(password)"
   ]
  },
  {
   "cell_type": "code",
   "execution_count": 3,
   "id": "f13205b5-983c-4cd6-bfa8-d0e9da804530",
   "metadata": {},
   "outputs": [
    {
     "data": {
      "text/plain": [
       "'I hope it rains tonight'"
      ]
     },
     "execution_count": 3,
     "metadata": {},
     "output_type": "execute_result"
    }
   ],
   "source": [
    "message = 'I hope it snows tonight'\n",
    "message.replace('snows', 'rains')"
   ]
  },
  {
   "cell_type": "code",
   "execution_count": 4,
   "id": "300d1006-0aea-45a5-b633-814c91a1d7cc",
   "metadata": {},
   "outputs": [
    {
     "data": {
      "text/plain": [
       "'I like pinak'"
      ]
     },
     "execution_count": 4,
     "metadata": {},
     "output_type": "execute_result"
    }
   ],
   "source": [
    "message = 'I love pinak'\n",
    "message.replace('love','like')"
   ]
  },
  {
   "cell_type": "code",
   "execution_count": 8,
   "id": "e7e82406-fbca-424b-8cfe-eb3970599852",
   "metadata": {},
   "outputs": [
    {
     "ename": "AttributeError",
     "evalue": "'int' object has no attribute 'replace'",
     "output_type": "error",
     "traceback": [
      "\u001b[1;31m---------------------------------------------------------------------------\u001b[0m",
      "\u001b[1;31mAttributeError\u001b[0m                            Traceback (most recent call last)",
      "Cell \u001b[1;32mIn[8], line 2\u001b[0m\n\u001b[0;32m      1\u001b[0m number \u001b[38;5;241m=\u001b[39m \u001b[38;5;241m15674\u001b[39m\n\u001b[1;32m----> 2\u001b[0m number\u001b[38;5;241m.\u001b[39mreplace[\u001b[38;5;28mstr\u001b[39m(\u001b[38;5;124m'\u001b[39m\u001b[38;5;124m5\u001b[39m\u001b[38;5;124m'\u001b[39m,\u001b[38;5;124m'\u001b[39m\u001b[38;5;124m6\u001b[39m\u001b[38;5;124m'\u001b[39m)]\n",
      "\u001b[1;31mAttributeError\u001b[0m: 'int' object has no attribute 'replace'"
     ]
    }
   ],
   "source": [
    "number = 15674\n",
    "number."
   ]
  },
  {
   "cell_type": "code",
   "execution_count": null,
   "id": "6521f0ba-b27e-4205-9eb6-c88cd0787999",
   "metadata": {},
   "outputs": [],
   "source": []
  }
 ],
 "metadata": {
  "kernelspec": {
   "display_name": "Python [conda env:base] *",
   "language": "python",
   "name": "conda-base-py"
  },
  "language_info": {
   "codemirror_mode": {
    "name": "ipython",
    "version": 3
   },
   "file_extension": ".py",
   "mimetype": "text/x-python",
   "name": "python",
   "nbconvert_exporter": "python",
   "pygments_lexer": "ipython3",
   "version": "3.13.5"
  }
 },
 "nbformat": 4,
 "nbformat_minor": 5
}
