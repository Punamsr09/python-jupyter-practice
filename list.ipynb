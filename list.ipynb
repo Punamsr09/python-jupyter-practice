{
  "nbformat": 4,
  "nbformat_minor": 0,
  "metadata": {
    "colab": {
      "provenance": [],
      "authorship_tag": "ABX9TyO8kZoM5hREj7UwIzdA+eUS"
    },
    "kernelspec": {
      "name": "python3",
      "display_name": "Python 3"
    },
    "language_info": {
      "name": "python"
    }
  },
  "cells": [
    {
      "cell_type": "code",
      "execution_count": null,
      "metadata": {
        "colab": {
          "base_uri": "https://localhost:8080/"
        },
        "id": "uwLGYeGSlh_U",
        "outputId": "39aad79c-5d13-41b8-c189-19e818f2b675"
      },
      "outputs": [
        {
          "output_type": "execute_result",
          "data": {
            "text/plain": [
              "['puja',\n",
              " 'rima',\n",
              " 'riya',\n",
              " 'maya',\n",
              " 'siya',\n",
              " 'piya',\n",
              " 'rema',\n",
              " 'raja',\n",
              " 'diya',\n",
              " 'shona',\n",
              " 'mona',\n",
              " ['pallabi'],\n",
              " 'dona',\n",
              " 'bina',\n",
              " 'mina']"
            ]
          },
          "metadata": {},
          "execution_count": 6
        }
      ],
      "source": [
        "list = ['puja', 'rima', 'riya', 'maya', 'siya', 'piya', 'rema', 'raja', 'diya', 'shona', 'mona', 'somona', 'dona', 'bina', 'mina']\n",
        "list[11] = ['pallabi']\n",
        "list"
      ]
    },
    {
      "cell_type": "code",
      "source": [
        "numbers = [10, 20,30,40,50,60]\n",
        "numbers [1:4]"
      ],
      "metadata": {
        "colab": {
          "base_uri": "https://localhost:8080/"
        },
        "id": "cnR0jaH-ncBc",
        "outputId": "86fff7b4-75b3-4f62-c947-a4892ada698c"
      },
      "execution_count": null,
      "outputs": [
        {
          "output_type": "execute_result",
          "data": {
            "text/plain": [
              "[20, 30, 0]"
            ]
          },
          "metadata": {},
          "execution_count": 7
        }
      ]
    },
    {
      "cell_type": "code",
      "source": [
        "numbers = [10, 20,30,0,50,60]\n",
        "numbers [0:3]"
      ],
      "metadata": {
        "colab": {
          "base_uri": "https://localhost:8080/"
        },
        "id": "-JRcBfssoWvd",
        "outputId": "6ffa0365-7915-4fca-846b-59a10c65a70c"
      },
      "execution_count": null,
      "outputs": [
        {
          "output_type": "execute_result",
          "data": {
            "text/plain": [
              "[10, 20, 30]"
            ]
          },
          "metadata": {},
          "execution_count": 8
        }
      ]
    },
    {
      "cell_type": "code",
      "source": [
        "numbers = [10, 20,30,40,50,60]\n",
        "numbers [:3]"
      ],
      "metadata": {
        "colab": {
          "base_uri": "https://localhost:8080/"
        },
        "id": "PYDu4zmgolKN",
        "outputId": "5ac1a7f2-ec01-453c-abf3-8aae61ed249e"
      },
      "execution_count": null,
      "outputs": [
        {
          "output_type": "execute_result",
          "data": {
            "text/plain": [
              "[10, 20, 30]"
            ]
          },
          "metadata": {},
          "execution_count": 9
        }
      ]
    },
    {
      "cell_type": "code",
      "source": [
        "numbers = [10, 20,30,40,50,60]\n",
        "numbers [4:]"
      ],
      "metadata": {
        "colab": {
          "base_uri": "https://localhost:8080/"
        },
        "id": "Zfq0LLB-pdfW",
        "outputId": "1778ea15-9a72-4dd0-f168-115c00835b05"
      },
      "execution_count": null,
      "outputs": [
        {
          "output_type": "execute_result",
          "data": {
            "text/plain": [
              "[50, 60]"
            ]
          },
          "metadata": {},
          "execution_count": 10
        }
      ]
    },
    {
      "cell_type": "code",
      "source": [
        "numbers = [10, 20,30,40,50,60]\n",
        "numbers [::-1]"
      ],
      "metadata": {
        "colab": {
          "base_uri": "https://localhost:8080/"
        },
        "id": "y0PDSQe6pjZn",
        "outputId": "bc31239f-8682-49e0-c07a-19127d39a306"
      },
      "execution_count": null,
      "outputs": [
        {
          "output_type": "execute_result",
          "data": {
            "text/plain": [
              "[60, 50, 0, 30, 20, 10]"
            ]
          },
          "metadata": {},
          "execution_count": 11
        }
      ]
    },
    {
      "cell_type": "code",
      "source": [
        "numbers = [10,20,30,40,50,60,70,80,]\n",
        "numbers[0]"
      ],
      "metadata": {
        "colab": {
          "base_uri": "https://localhost:8080/"
        },
        "id": "80d_N9_2pqxm",
        "outputId": "ea894bb1-c75c-4a42-b882-1fba2858fce6"
      },
      "execution_count": null,
      "outputs": [
        {
          "output_type": "execute_result",
          "data": {
            "text/plain": [
              "10"
            ]
          },
          "metadata": {},
          "execution_count": 13
        }
      ]
    },
    {
      "cell_type": "code",
      "source": [
        "numbers = [10,20,30,40,50,60,70,80,]\n",
        "numbers[-1]"
      ],
      "metadata": {
        "colab": {
          "base_uri": "https://localhost:8080/"
        },
        "id": "mKtEr8bdp-yA",
        "outputId": "22e7baa4-90d9-41c3-df50-6e61f5e1613e"
      },
      "execution_count": null,
      "outputs": [
        {
          "output_type": "execute_result",
          "data": {
            "text/plain": [
              "80"
            ]
          },
          "metadata": {},
          "execution_count": 14
        }
      ]
    },
    {
      "cell_type": "code",
      "source": [
        "numbers = [10,20,30,40,50,60,70,80,]\n",
        "numbers[-2]"
      ],
      "metadata": {
        "colab": {
          "base_uri": "https://localhost:8080/"
        },
        "id": "9kySfa6AqaXv",
        "outputId": "2e42815b-a031-4013-bb1a-f9d8dcf872f7"
      },
      "execution_count": null,
      "outputs": [
        {
          "output_type": "execute_result",
          "data": {
            "text/plain": [
              "70"
            ]
          },
          "metadata": {},
          "execution_count": 15
        }
      ]
    },
    {
      "cell_type": "code",
      "source": [
        "numbers = [10,20,30,40,50,60,70,80,]\n",
        "numbers[::-1]"
      ],
      "metadata": {
        "colab": {
          "base_uri": "https://localhost:8080/"
        },
        "id": "IiOYcVRAqdhC",
        "outputId": "5514bb8a-c83e-44cc-ec34-de9c450a63fe"
      },
      "execution_count": null,
      "outputs": [
        {
          "output_type": "execute_result",
          "data": {
            "text/plain": [
              "[80, 70, 60, 50, 40, 30, 20, 10]"
            ]
          },
          "metadata": {},
          "execution_count": 18
        }
      ]
    },
    {
      "cell_type": "code",
      "source": [
        "# list: ordered collection of items that can be changed(mutable)\n",
        "x = ['apple', 'banana', 'cherry']\n",
        "x"
      ],
      "metadata": {
        "colab": {
          "base_uri": "https://localhost:8080/"
        },
        "id": "e-30qnp3SVHZ",
        "outputId": "6f3a31ed-c20c-4315-b182-622ce1e830a9"
      },
      "execution_count": null,
      "outputs": [
        {
          "output_type": "execute_result",
          "data": {
            "text/plain": [
              "['apple', 'banana', 'cherry']"
            ]
          },
          "metadata": {},
          "execution_count": 1
        }
      ]
    },
    {
      "cell_type": "code",
      "source": [
        "numbers = [2, 3, 4, 7, 8, 9]\n",
        "numbers"
      ],
      "metadata": {
        "colab": {
          "base_uri": "https://localhost:8080/"
        },
        "id": "m6M4GQaKTDDN",
        "outputId": "4aaf5856-1e6c-4a4d-8da7-dccf70e8afc4"
      },
      "execution_count": null,
      "outputs": [
        {
          "output_type": "execute_result",
          "data": {
            "text/plain": [
              "[2, 3, 4, 7, 8, 9]"
            ]
          },
          "metadata": {},
          "execution_count": 2
        }
      ]
    },
    {
      "cell_type": "code",
      "source": [
        "mixed = [12,'hello', 4.3, True]\n",
        "mixed"
      ],
      "metadata": {
        "colab": {
          "base_uri": "https://localhost:8080/"
        },
        "id": "ogMoOVLLTsCC",
        "outputId": "e07aa4fb-bd3b-4216-e2cc-99a4ce6d7213"
      },
      "execution_count": null,
      "outputs": [
        {
          "output_type": "execute_result",
          "data": {
            "text/plain": [
              "[12, 'hello', 4.3, True]"
            ]
          },
          "metadata": {},
          "execution_count": 3
        }
      ]
    },
    {
      "cell_type": "code",
      "source": [
        "# total number of elements are 8 then indexing will be till 7\n",
        "# n-1"
      ],
      "metadata": {
        "id": "UMdjatk7VL3M"
      },
      "execution_count": null,
      "outputs": []
    },
    {
      "cell_type": "code",
      "source": [
        "# list homework:\n",
        "# Create a list of 5 fruits and:\n",
        "# Print the first and last fruit.\n",
        "# Replace the third fruit with another fruit.\n",
        "# Add a new fruit to the list.\n",
        "# Remove one fruit from the list.\n",
        "\n",
        "fruits = ['orange', 'banana', 'apple', 'kiwi', 'mango']\n",
        "fruits\n",
        "print(fruits[0::4])\n"
      ],
      "metadata": {
        "colab": {
          "base_uri": "https://localhost:8080/"
        },
        "id": "CTeqf8I5VuF4",
        "outputId": "c9a6bf9d-e8ad-4502-9b7c-d88a03e52262"
      },
      "execution_count": null,
      "outputs": [
        {
          "output_type": "stream",
          "name": "stdout",
          "text": [
            "['orange', 'mango']\n"
          ]
        },
        {
          "output_type": "execute_result",
          "data": {
            "text/plain": [
              "['orange', 'banana', 'strawberry', 'mango', 'pineapple']"
            ]
          },
          "metadata": {},
          "execution_count": 25
        }
      ]
    },
    {
      "cell_type": "code",
      "source": [
        "fruits = ['orange', 'banana', 'apple', 'kiwi', 'mango']\n",
        "fruits[2] = 'strawberry'\n",
        "fruits"
      ],
      "metadata": {
        "colab": {
          "base_uri": "https://localhost:8080/"
        },
        "id": "AjLo1QsucOL1",
        "outputId": "9c411f55-80bf-46c6-931a-7b2f3567fed5"
      },
      "execution_count": null,
      "outputs": [
        {
          "output_type": "execute_result",
          "data": {
            "text/plain": [
              "['orange', 'banana', 'strawberry', 'kiwi', 'mango']"
            ]
          },
          "metadata": {},
          "execution_count": 27
        }
      ]
    },
    {
      "cell_type": "code",
      "source": [
        "fruits = ['orange', 'banana', 'apple', 'kiwi', 'mango']\n",
        "fruits.append(\"pineapple\")\n",
        "fruits"
      ],
      "metadata": {
        "colab": {
          "base_uri": "https://localhost:8080/"
        },
        "id": "x3h4W_6KYcJr",
        "outputId": "b1017887-28c2-4514-8bc2-e08bb8fe1cd0"
      },
      "execution_count": null,
      "outputs": [
        {
          "output_type": "execute_result",
          "data": {
            "text/plain": [
              "['orange', 'banana', 'apple', 'kiwi', 'mango', 'pineapple']"
            ]
          },
          "metadata": {},
          "execution_count": 28
        }
      ]
    },
    {
      "cell_type": "code",
      "source": [
        "fruits = ['orange', 'banana', 'apple', 'kiwi', 'mango']\n",
        "fruits.remove('mango')\n",
        "fruits"
      ],
      "metadata": {
        "colab": {
          "base_uri": "https://localhost:8080/"
        },
        "id": "hI4Yg6aOc4uF",
        "outputId": "b53e8ee9-2937-4270-ad74-bfb66b2ca7ca"
      },
      "execution_count": null,
      "outputs": [
        {
          "output_type": "execute_result",
          "data": {
            "text/plain": [
              "['orange', 'banana', 'apple', 'kiwi']"
            ]
          },
          "metadata": {},
          "execution_count": 34
        }
      ]
    },
    {
      "cell_type": "code",
      "source": [
        "# 2. Given numbers = [5, 10, 15, 20, 25]:\n",
        "# Print the first three numbers.\n",
        "# Print the list in reverse.\n",
        "# Find the sum of all numbers.\n",
        "numbers = [5, 10, 15, 20, 25]\n",
        "print(numbers[0:3])"
      ],
      "metadata": {
        "colab": {
          "base_uri": "https://localhost:8080/"
        },
        "id": "L6VRjIQGdlvu",
        "outputId": "84c7af1f-229a-4472-b1b0-776d9e20dee6"
      },
      "execution_count": null,
      "outputs": [
        {
          "output_type": "stream",
          "name": "stdout",
          "text": [
            "[5, 10, 15]\n"
          ]
        }
      ]
    },
    {
      "cell_type": "code",
      "source": [
        "# 2. Given numbers = [5, 10, 15, 20, 25]:\n",
        "# Print the first three numbers.\n",
        "# Print the list in reverse.\n",
        "# Find the sum of all numbers.\n",
        "numbers = [5, 10, 15, 20, 25]\n",
        "numbers.reverse()\n",
        "print(numbers)\n",
        "\n"
      ],
      "metadata": {
        "colab": {
          "base_uri": "https://localhost:8080/"
        },
        "id": "tmMe_Eh3ek04",
        "outputId": "aecea34a-9f4b-4bd6-fa02-611dbe5c7e69"
      },
      "execution_count": null,
      "outputs": [
        {
          "output_type": "stream",
          "name": "stdout",
          "text": [
            "[25, 20, 15, 10, 5]\n"
          ]
        }
      ]
    },
    {
      "cell_type": "code",
      "source": [
        "# 2. Given numbers = [5, 10, 15, 20, 25]:\n",
        "# Print the first three numbers.\n",
        "# Print the list in reverse.\n",
        "# Find the sum of all numbers.\n",
        "numbers = [5, 10, 15, 20, 25]\n",
        "numbers[::-1]"
      ],
      "metadata": {
        "colab": {
          "base_uri": "https://localhost:8080/"
        },
        "id": "3VG_4viKgXH4",
        "outputId": "66e24860-8e0d-4baa-9eb3-0dfe5c98352f"
      },
      "execution_count": null,
      "outputs": [
        {
          "output_type": "execute_result",
          "data": {
            "text/plain": [
              "[25, 20, 15, 10, 5]"
            ]
          },
          "metadata": {},
          "execution_count": 42
        }
      ]
    },
    {
      "cell_type": "code",
      "source": [
        "# OR\n",
        "# 2. Given numbers = [5, 10, 15, 20, 25]:\n",
        "# Print the first three numbers.\n",
        "# Print the list in reverse.\n",
        "# Find the sum of all numbers.\n",
        "numbers = [5, 10, 15, 20, 25]\n",
        "total = sum(numbers)\n",
        "print(f'the sum of all the numbers', total)"
      ],
      "metadata": {
        "colab": {
          "base_uri": "https://localhost:8080/"
        },
        "id": "_NO1zMEJfRlO",
        "outputId": "9b18c80c-ffbc-42ac-fa93-526c2d89851d"
      },
      "execution_count": null,
      "outputs": [
        {
          "output_type": "stream",
          "name": "stdout",
          "text": [
            "the sum of all the numbers 75\n"
          ]
        }
      ]
    },
    {
      "cell_type": "code",
      "source": [
        "# 3. Write a program to find the maximum and minimum element in a list.\n",
        "list_1 = [45, 34, 23, 33, 60, 21, 28]\n",
        "maximum = max(list_1)\n",
        "# maximum\n",
        "minimum = min(list_1)\n",
        "# minimum\n",
        "\n",
        "print(f'The maximum element in the list is', maximum)\n",
        "print(f'The minimum element in the list is', minimum)\n"
      ],
      "metadata": {
        "colab": {
          "base_uri": "https://localhost:8080/"
        },
        "id": "HXYBTuQyjegG",
        "outputId": "003e380d-1ab7-411d-8d72-ab25f573cb21"
      },
      "execution_count": null,
      "outputs": [
        {
          "output_type": "stream",
          "name": "stdout",
          "text": [
            "The maximum element in the list is 60\n",
            "The minimum element in the list is 21\n"
          ]
        }
      ]
    },
    {
      "cell_type": "code",
      "source": [
        "# 4. Remove duplicates from a list:\n",
        "# Example: [1, 2, 2, 3, 4, 4, 5] → [1, 2, 3, 4, 5]\n",
        "new_list = [23, 21, 30, 33, 28, 28, 45]\n",
        "unique_number = list(dict.fromkeys(new_list))\n",
        "print(new_list)\n",
        "print(unique_number)"
      ],
      "metadata": {
        "colab": {
          "base_uri": "https://localhost:8080/"
        },
        "id": "UvtbTYzYnhsz",
        "outputId": "61b25274-1ca6-4c55-cbc9-8ac9d2d80ad8"
      },
      "execution_count": null,
      "outputs": [
        {
          "output_type": "stream",
          "name": "stdout",
          "text": [
            "[23, 21, 30, 33, 28, 28, 45]\n",
            "[23, 21, 30, 33, 28, 45]\n"
          ]
        }
      ]
    },
    {
      "cell_type": "code",
      "source": [
        "# 5. Join two lists:\n",
        "# a = [1, 2, 3], b = [4, 5, 6] → [1, 2, 3, 4, 5, 6]\n",
        "a = [1, 2, 3]\n",
        "b = [4, 5, 6]\n",
        "c = a + b\n",
        "print(c)"
      ],
      "metadata": {
        "colab": {
          "base_uri": "https://localhost:8080/"
        },
        "id": "qQlabVOwq7uA",
        "outputId": "120e01e8-2f67-483c-a583-4e8e526d89f6"
      },
      "execution_count": null,
      "outputs": [
        {
          "output_type": "stream",
          "name": "stdout",
          "text": [
            "[1, 2, 3, 4, 5, 6]\n"
          ]
        }
      ]
    },
    {
      "cell_type": "code",
      "source": [],
      "metadata": {
        "colab": {
          "base_uri": "https://localhost:8080/"
        },
        "id": "_C_1FdNKqhid",
        "outputId": "136ab5b4-cd5b-4926-870e-67ff0f3ad9ea"
      },
      "execution_count": null,
      "outputs": [
        {
          "output_type": "execute_result",
          "data": {
            "text/plain": [
              "[10, 20]"
            ]
          },
          "metadata": {},
          "execution_count": 46
        }
      ]
    },
    {
      "cell_type": "code",
      "source": [],
      "metadata": {
        "colab": {
          "base_uri": "https://localhost:8080/"
        },
        "id": "TVQp2YMYrI-J",
        "outputId": "c517b32c-c1b6-4f5f-bef9-c3899fe32085"
      },
      "execution_count": null,
      "outputs": [
        {
          "output_type": "execute_result",
          "data": {
            "text/plain": [
              "['alice', 30, 'engineer']"
            ]
          },
          "metadata": {},
          "execution_count": 20
        }
      ]
    },
    {
      "cell_type": "code",
      "source": [
        "# sets stores non duplicate values\n",
        "apple = {'mango', 'grapes', 'mango', 'banana'}\n",
        "apple"
      ],
      "metadata": {
        "colab": {
          "base_uri": "https://localhost:8080/"
        },
        "id": "2zTSq4ZsrVNE",
        "outputId": "6d6f812b-a5ba-47b0-aa2f-9b6ffab17569"
      },
      "execution_count": null,
      "outputs": [
        {
          "output_type": "execute_result",
          "data": {
            "text/plain": [
              "{'banana', 'grapes', 'mango'}"
            ]
          },
          "metadata": {},
          "execution_count": 21
        }
      ]
    },
    {
      "cell_type": "code",
      "source": [
        "x = {1,2,3}\n",
        "y = {3,4,5}\n",
        "x|y"
      ],
      "metadata": {
        "colab": {
          "base_uri": "https://localhost:8080/"
        },
        "id": "ju4FDpO4sGxd",
        "outputId": "3033b48d-7dce-4875-b0f2-e6bea63e406d"
      },
      "execution_count": null,
      "outputs": [
        {
          "output_type": "execute_result",
          "data": {
            "text/plain": [
              "{1, 2, 3, 4, 5}"
            ]
          },
          "metadata": {},
          "execution_count": 23
        }
      ]
    },
    {
      "cell_type": "code",
      "source": [
        "x = {1,2,3}\n",
        "y = {3,4,5}\n",
        "x & y"
      ],
      "metadata": {
        "colab": {
          "base_uri": "https://localhost:8080/"
        },
        "id": "NfehYIgfsdAD",
        "outputId": "70e47034-d8a3-4d12-abbb-3c8b09320fa8"
      },
      "execution_count": null,
      "outputs": [
        {
          "output_type": "execute_result",
          "data": {
            "text/plain": [
              "{3}"
            ]
          },
          "metadata": {},
          "execution_count": 24
        }
      ]
    },
    {
      "cell_type": "code",
      "source": [
        "# add (x) : adds an element\n",
        "# update (iterable) adds multiple elements\n",
        "# remove(x) removes elements (error if not found)\n",
        "# discard (x) removes elements (no error if missing)\n",
        "# pop () removes and returns a random elements\n",
        "# clear ()"
      ],
      "metadata": {
        "id": "-NYHZCgItA40"
      },
      "execution_count": null,
      "outputs": []
    },
    {
      "cell_type": "code",
      "source": [
        "x = {'New York', 'Los Angeles', 'Chicago'}\n",
        "y = ['Los Angeles', 'Chicago', 'San Fransisco']\n",
        "\n",
        "# 1. print places you want to visit but your friend does not.\n",
        "# 2. print places your friend want to visit but you dont.\n",
        "# 3. print places you both want to visit.\n",
        "# 4. Add New Jersey to your friend's list.\n"
      ],
      "metadata": {
        "id": "bOMUSOvTuCHf"
      },
      "execution_count": null,
      "outputs": []
    },
    {
      "cell_type": "code",
      "source": [
        "x = {'New York', 'Los Angeles', 'Chicago'}\n",
        "y = {'Los Angeles', 'Chicago', 'San Fransisco'}\n",
        "x - y"
      ],
      "metadata": {
        "colab": {
          "base_uri": "https://localhost:8080/"
        },
        "id": "saAPrpREu1hB",
        "outputId": "68ddda80-7ada-45c3-9913-8c3fc8e4ea77"
      },
      "execution_count": null,
      "outputs": [
        {
          "output_type": "execute_result",
          "data": {
            "text/plain": [
              "{'New York'}"
            ]
          },
          "metadata": {},
          "execution_count": 27
        }
      ]
    },
    {
      "cell_type": "code",
      "source": [
        "x = {'New York', 'Los Angeles', 'Chicago'}\n",
        "y = {'Los Angeles', 'Chicago', 'San Fransisco'}\n",
        "y - x"
      ],
      "metadata": {
        "colab": {
          "base_uri": "https://localhost:8080/"
        },
        "id": "b5pITWRCvT3K",
        "outputId": "9130456f-7158-467c-a4d2-d9c221ae3510"
      },
      "execution_count": null,
      "outputs": [
        {
          "output_type": "execute_result",
          "data": {
            "text/plain": [
              "{'San Fransisco'}"
            ]
          },
          "metadata": {},
          "execution_count": 29
        }
      ]
    },
    {
      "cell_type": "code",
      "source": [],
      "metadata": {
        "id": "20SiDGIbv72X"
      },
      "execution_count": null,
      "outputs": []
    }
  ]
}