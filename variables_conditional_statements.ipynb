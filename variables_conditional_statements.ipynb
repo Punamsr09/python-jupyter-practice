{
  "nbformat": 4,
  "nbformat_minor": 0,
  "metadata": {
    "colab": {
      "provenance": []
    },
    "kernelspec": {
      "name": "python3",
      "display_name": "Python 3"
    },
    "language_info": {
      "name": "python"
    }
  },
  "cells": [
    {
      "cell_type": "code",
      "execution_count": null,
      "metadata": {
        "colab": {
          "base_uri": "https://localhost:8080/"
        },
        "id": "7OsSfa5fSwAp",
        "outputId": "b612f514-7280-4597-c6c8-559331f10aba"
      },
      "outputs": [
        {
          "output_type": "stream",
          "name": "stdout",
          "text": [
            "Hello World\n"
          ]
        }
      ],
      "source": [
        "print('Hello World')"
      ]
    },
    {
      "cell_type": "code",
      "source": [
        "print ('My name is Punam')"
      ],
      "metadata": {
        "colab": {
          "base_uri": "https://localhost:8080/"
        },
        "id": "YUKIuQVmUaht",
        "outputId": "2a0670fc-471e-4920-c554-6bf46596a941"
      },
      "execution_count": null,
      "outputs": [
        {
          "output_type": "stream",
          "name": "stdout",
          "text": [
            "My name is Punam\n"
          ]
        }
      ]
    },
    {
      "cell_type": "code",
      "source": [
        "print(10+11)"
      ],
      "metadata": {
        "colab": {
          "base_uri": "https://localhost:8080/"
        },
        "id": "BmBcqB9pUmWe",
        "outputId": "58817bff-51a0-475c-a25a-dd2731c712a0"
      },
      "execution_count": null,
      "outputs": [
        {
          "output_type": "stream",
          "name": "stdout",
          "text": [
            "21\n"
          ]
        }
      ]
    },
    {
      "cell_type": "code",
      "source": [
        "print(17*25)"
      ],
      "metadata": {
        "colab": {
          "base_uri": "https://localhost:8080/"
        },
        "id": "WISpAW3WVBbL",
        "outputId": "acec26bb-007a-46c8-a41f-c92a5a890f82"
      },
      "execution_count": null,
      "outputs": [
        {
          "output_type": "stream",
          "name": "stdout",
          "text": [
            "425\n"
          ]
        }
      ]
    },
    {
      "cell_type": "code",
      "source": [
        "# A variable is like a container use to store a value.\n",
        "# X, Y, Z, a, b, c\n",
        "# name = 'punam'\n",
        "# x = 'punam'\n",
        "# y = 23\n",
        "\n",
        "# python data types:\n",
        "# text: str\n",
        "#numeric: int, float\n",
        "# boolean: yes, no"
      ],
      "metadata": {
        "id": "tZVIlFCOVM0V"
      },
      "execution_count": null,
      "outputs": []
    },
    {
      "cell_type": "code",
      "source": [
        "X = 'Hellow world'\n",
        "print(X)"
      ],
      "metadata": {
        "colab": {
          "base_uri": "https://localhost:8080/"
        },
        "id": "Qh9gBD_Sb-Vc",
        "outputId": "37e19279-b076-409a-e9b0-52bb5d002396"
      },
      "execution_count": null,
      "outputs": [
        {
          "output_type": "stream",
          "name": "stdout",
          "text": [
            "Hellow world\n"
          ]
        }
      ]
    },
    {
      "cell_type": "code",
      "source": [
        "a = 7\n",
        "b = 8\n",
        "c = a + b\n",
        "print(c)"
      ],
      "metadata": {
        "colab": {
          "base_uri": "https://localhost:8080/"
        },
        "id": "jUvrWvyBcHcg",
        "outputId": "ef59c9cc-eeca-41cd-a256-1dca3534d130"
      },
      "execution_count": null,
      "outputs": [
        {
          "output_type": "stream",
          "name": "stdout",
          "text": [
            "15\n"
          ]
        }
      ]
    },
    {
      "cell_type": "code",
      "source": [
        "a = 7\n",
        "b = 8\n",
        "c = 7 * 8\n",
        "print(c)"
      ],
      "metadata": {
        "colab": {
          "base_uri": "https://localhost:8080/"
        },
        "id": "8SP2ohsIcTb1",
        "outputId": "c9743f18-8e30-46a0-ce1b-63723a4bf271"
      },
      "execution_count": null,
      "outputs": [
        {
          "output_type": "stream",
          "name": "stdout",
          "text": [
            "56\n"
          ]
        }
      ]
    },
    {
      "cell_type": "code",
      "source": [
        "# Find the modulus 64%7 it gives the remainder\n",
        "a = 64\n",
        "b = 7\n",
        "c = 64 % 7\n",
        "print(c)"
      ],
      "metadata": {
        "colab": {
          "base_uri": "https://localhost:8080/"
        },
        "id": "Jhgdor5zdQkM",
        "outputId": "3dd99c53-68f4-4c35-dece-8a490119ee4f"
      },
      "execution_count": null,
      "outputs": [
        {
          "output_type": "stream",
          "name": "stdout",
          "text": [
            "1\n"
          ]
        }
      ]
    },
    {
      "cell_type": "code",
      "source": [
        "x = int(input('Enter first number: '))\n",
        "y = int(input('Enter first number: '))\n",
        "z = x + y\n",
        "print(z)"
      ],
      "metadata": {
        "colab": {
          "base_uri": "https://localhost:8080/"
        },
        "id": "T_34-U3Bdbg4",
        "outputId": "1b46dbaf-a4f1-4a66-ae5f-ab1fd86e8fd4"
      },
      "execution_count": null,
      "outputs": [
        {
          "output_type": "stream",
          "name": "stdout",
          "text": [
            "Enter first number: 34\n",
            "Enter first number: 46\n",
            "80\n"
          ]
        }
      ]
    },
    {
      "cell_type": "code",
      "source": [
        "x = int(input(\"Enter first number: \"))\n",
        "y = int(input(\"Enter second number: \"))\n",
        "z = x + y\n",
        "print(z)"
      ],
      "metadata": {
        "id": "IWxOQKcUfdHD",
        "colab": {
          "base_uri": "https://localhost:8080/"
        },
        "outputId": "e2959259-1bad-46c1-d02e-75c9516d80df"
      },
      "execution_count": null,
      "outputs": [
        {
          "output_type": "stream",
          "name": "stdout",
          "text": [
            "Enter first number: 12\n",
            "Enter second number: 12\n",
            "24\n"
          ]
        }
      ]
    },
    {
      "cell_type": "code",
      "source": [
        "# age = 18\n",
        "# if age >= 18\n",
        "# print(eligibl)\n",
        "# else\n",
        "# print(ineligible)\n",
        "# indentation\n",
        "\n",
        "x = int(input(\"Enter your age: \"))\n",
        "if x >= 18:\n",
        "  print(\"you are eligible to drive\")\n",
        "else:\n",
        "  print(\"you are not eligible to drive\")\n"
      ],
      "metadata": {
        "id": "QdYguvqPf4YX",
        "colab": {
          "base_uri": "https://localhost:8080/"
        },
        "outputId": "74d6638e-db0f-46d7-db83-4ca50fa40b60"
      },
      "execution_count": null,
      "outputs": [
        {
          "output_type": "stream",
          "name": "stdout",
          "text": [
            "Enter your age: 5\n",
            "you are not eligible to drive\n"
          ]
        }
      ]
    },
    {
      "cell_type": "code",
      "source": [
        "# Create a program to ask user enter a number and print if its even or odd\n",
        "x = int(input(\"Enter first number: \"))\n",
        "y = int(input(\"Enter second number: \"))\n",
        "z = x * y\n",
        "print(z)\n",
        "if z % 2 == 0:\n",
        "  print(\"Even number\")\n",
        "else:\n",
        "  print(\"Odd number\")"
      ],
      "metadata": {
        "colab": {
          "base_uri": "https://localhost:8080/"
        },
        "id": "la3dBlQchKz9",
        "outputId": "13e06cc2-6660-424f-9779-1cef997b83c1"
      },
      "execution_count": null,
      "outputs": [
        {
          "output_type": "stream",
          "name": "stdout",
          "text": [
            "Enter first number: 12\n",
            "Enter second number: 12\n",
            "144\n",
            "Even number\n"
          ]
        }
      ]
    },
    {
      "cell_type": "code",
      "source": [
        "# write a program to ask a letter if it is a vowel or consonent\n",
        "\n",
        "x = input(\"enter a letter: \")\n",
        "\n",
        "if x in ['a', 'e', 'i', 'o', 'u']:\n",
        "\n",
        "   print(\"vowel\")\n",
        "else:\n",
        "\n",
        "   print(\"consonent\")\n"
      ],
      "metadata": {
        "colab": {
          "base_uri": "https://localhost:8080/"
        },
        "id": "O1zx93LojjLx",
        "outputId": "f58d98b6-49b9-4b1f-afc9-d461d6276319"
      },
      "execution_count": null,
      "outputs": [
        {
          "output_type": "stream",
          "name": "stdout",
          "text": [
            "enter a letter: w\n",
            "consonent\n"
          ]
        }
      ]
    },
    {
      "cell_type": "code",
      "source": [
        "# Find Largest of Two Numbers\n",
        "# Take two numbers as input and print which one is greater.\n",
        "\n",
        "x = int(input(\"enter first number: \"))\n",
        "y = int(input(\"enter second number: \"))\n",
        "if x > y:\n",
        "  print(f'{x} is greater than {y}')\n",
        "elif y > x :\n",
        "  print(f'{y} is greater than {x} ')\n",
        "else :\n",
        "  print(f'{x} is equal to {y}')"
      ],
      "metadata": {
        "colab": {
          "base_uri": "https://localhost:8080/"
        },
        "id": "LS8csHlzk2YQ",
        "outputId": "32e29b8d-f351-4322-f4ee-a04cdcd2bd63"
      },
      "execution_count": null,
      "outputs": [
        {
          "output_type": "stream",
          "name": "stdout",
          "text": [
            "enter first number: 26\n",
            "enter second number: 26\n",
            "26 is equal to 26\n"
          ]
        }
      ]
    },
    {
      "cell_type": "code",
      "source": [
        "# Grading System\n",
        "# Input marks and print grade:\n",
        "\n",
        "# 90–100 → A\n",
        "\n",
        "# 75–89 → B\n",
        "\n",
        "# 50–74 → C\n",
        "\n",
        "# Below 50 → Fail\n",
        "\n",
        "x = int(input(\"enter a number: \"))\n",
        "if x >= 90 and x <= 100:\n",
        "  print('A')\n",
        "elif x >= 75 and x <= 89:\n",
        "  print('B')\n",
        "elif x >= 50 and x <= 74:\n",
        "  print('C')\n",
        "else :\n",
        "  print('fail')\n"
      ],
      "metadata": {
        "colab": {
          "base_uri": "https://localhost:8080/"
        },
        "id": "0sIIuGHrmc7Y",
        "outputId": "28e7a4c8-7276-4561-dcce-3215979462c7"
      },
      "execution_count": null,
      "outputs": [
        {
          "output_type": "stream",
          "name": "stdout",
          "text": [
            "enter a number: 87\n",
            "B\n"
          ]
        }
      ]
    },
    {
      "cell_type": "code",
      "source": [],
      "metadata": {
        "id": "auorsu3Av2eJ"
      },
      "execution_count": null,
      "outputs": []
    }
  ]
}