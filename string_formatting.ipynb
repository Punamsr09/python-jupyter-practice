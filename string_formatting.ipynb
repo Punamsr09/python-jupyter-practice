{
 "cells": [
  {
   "cell_type": "code",
   "execution_count": 4,
   "id": "40f3ea36-d10d-44d3-bb9b-a20f30648157",
   "metadata": {},
   "outputs": [],
   "source": [
    "text1 = '  your friend Mark '\n",
    "text2 = 'was'\n",
    "text3 = 'Having'\n",
    "text4 = 'a wonderful day'\n",
    "text5 = 'on the mountain'\n"
   ]
  },
  {
   "cell_type": "code",
   "execution_count": 5,
   "id": "e713f312-b6a5-4633-bace-3415208548ab",
   "metadata": {},
   "outputs": [],
   "source": [
    "full_text = text1 + ' ' + text2 + ' ' +text3 + ' ' + text4 + ' ' + text5"
   ]
  },
  {
   "cell_type": "code",
   "execution_count": 6,
   "id": "44c3c997-65e0-4839-abd4-707521101413",
   "metadata": {},
   "outputs": [
    {
     "data": {
      "text/plain": [
       "'  your friend Mark  was Having a wonderful day on the mountain'"
      ]
     },
     "execution_count": 6,
     "metadata": {},
     "output_type": "execute_result"
    }
   ],
   "source": [
    "full_text"
   ]
  },
  {
   "cell_type": "code",
   "execution_count": 7,
   "id": "e22fff38-6490-4252-ac96-c5c4e4260f98",
   "metadata": {},
   "outputs": [],
   "source": [
    "fixed_text = full_text.strip().lower()"
   ]
  },
  {
   "cell_type": "code",
   "execution_count": 8,
   "id": "180fabe6-ee4a-490f-af06-98b689013de8",
   "metadata": {},
   "outputs": [
    {
     "data": {
      "text/plain": [
       "'your friend mark  was having a wonderful day on the mountain'"
      ]
     },
     "execution_count": 8,
     "metadata": {},
     "output_type": "execute_result"
    }
   ],
   "source": [
    "fixed_text"
   ]
  },
  {
   "cell_type": "code",
   "execution_count": 11,
   "id": "e65e4ab7-af63-4927-ba7b-21656aaab59a",
   "metadata": {},
   "outputs": [],
   "source": [
    "rectified_text = full_text.strip().upper() "
   ]
  },
  {
   "cell_type": "code",
   "execution_count": 12,
   "id": "429d10f5-215e-4316-890f-8723904d094c",
   "metadata": {},
   "outputs": [
    {
     "data": {
      "text/plain": [
       "'YOUR FRIEND MARK  WAS HAVING A WONDERFUL DAY ON THE MOUNTAIN'"
      ]
     },
     "execution_count": 12,
     "metadata": {},
     "output_type": "execute_result"
    }
   ],
   "source": [
    "rectified_text"
   ]
  },
  {
   "cell_type": "code",
   "execution_count": 15,
   "id": "18ae2fc4-2224-461b-93f0-0ccc3f4fa3c5",
   "metadata": {},
   "outputs": [],
   "source": [
    "new_text = full_text[:full_text.find('on the mountain')] + 'on a gift shop'"
   ]
  },
  {
   "cell_type": "code",
   "execution_count": 16,
   "id": "0ae1a23e-4bb3-47fb-a32b-8acb018546c4",
   "metadata": {},
   "outputs": [
    {
     "data": {
      "text/plain": [
       "'  your friend Mark  was Having a wonderful day on a gift shop'"
      ]
     },
     "execution_count": 16,
     "metadata": {},
     "output_type": "execute_result"
    }
   ],
   "source": [
    "new_text"
   ]
  },
  {
   "cell_type": "code",
   "execution_count": 23,
   "id": "5080106f-f934-491c-ba68-f7ae03048882",
   "metadata": {},
   "outputs": [],
   "source": [
    "new_text1 = new_text.replace ('on a gift shop', 'on a bike')"
   ]
  },
  {
   "cell_type": "code",
   "execution_count": 24,
   "id": "71a94339-57d1-48a7-aa63-dd445130cada",
   "metadata": {},
   "outputs": [
    {
     "data": {
      "text/plain": [
       "'  your friend Mark  was Having a wonderful day on a bike'"
      ]
     },
     "execution_count": 24,
     "metadata": {},
     "output_type": "execute_result"
    }
   ],
   "source": [
    "new_text1"
   ]
  },
  {
   "cell_type": "code",
   "execution_count": 35,
   "id": "e71cf059-7393-4157-89c3-a87322a58e4f",
   "metadata": {},
   "outputs": [
    {
     "name": "stdout",
     "output_type": "stream",
     "text": [
      "prisha is the best daughter. of course!\n"
     ]
    }
   ],
   "source": [
    "name = 'prisha'\n",
    "d = 'best'\n",
    "\n",
    "print(f\"{name} is the {d} daughter. of course!\")"
   ]
  },
  {
   "cell_type": "code",
   "execution_count": 37,
   "id": "d7772a0a-e492-4483-9d59-fb7365cb611a",
   "metadata": {},
   "outputs": [
    {
     "name": "stdout",
     "output_type": "stream",
     "text": [
      "prisha is very smart and best girl. We love her!\n"
     ]
    }
   ],
   "source": [
    "print(f'{name} is very smart and {d} girl. We love her!')"
   ]
  },
  {
   "cell_type": "code",
   "execution_count": 50,
   "id": "da926486-4547-48a0-b68d-5b7ea215751b",
   "metadata": {},
   "outputs": [
    {
     "name": "stdout",
     "output_type": "stream",
     "text": [
      "My favorite movie is Barfi. I can watch BARFIBARFI 100 times!\n"
     ]
    }
   ],
   "source": [
    "movie = 'Barfi'\n",
    "print( f'My favorite movie is {movie}. I can watch {movie.upper()  * 2} 100 times!')"
   ]
  },
  {
   "cell_type": "code",
   "execution_count": 52,
   "id": "b7bf005b-1404-4ebe-a66e-66ce034251bb",
   "metadata": {},
   "outputs": [
    {
     "name": "stdout",
     "output_type": "stream",
     "text": [
      "The snowboard costs $434.5\n"
     ]
    }
   ],
   "source": [
    "price = 434.5\n",
    "product = 'snowboard'\n",
    "print(f'The {product} costs ${price}')"
   ]
  },
  {
   "cell_type": "code",
   "execution_count": 53,
   "id": "e78c249b-8d3c-4701-8682-dbfc1135e287",
   "metadata": {},
   "outputs": [
    {
     "name": "stdout",
     "output_type": "stream",
     "text": [
      "The chocobar costs $4.5\n"
     ]
    }
   ],
   "source": [
    "price = 4.5\n",
    "product = 'chocobar'\n",
    "print(f'The {product} costs ${price}')"
   ]
  },
  {
   "cell_type": "code",
   "execution_count": null,
   "id": "2594e529-7a89-4050-9ff8-2712bd5243b7",
   "metadata": {},
   "outputs": [],
   "source": []
  }
 ],
 "metadata": {
  "kernelspec": {
   "display_name": "Python [conda env:base] *",
   "language": "python",
   "name": "conda-base-py"
  },
  "language_info": {
   "codemirror_mode": {
    "name": "ipython",
    "version": 3
   },
   "file_extension": ".py",
   "mimetype": "text/x-python",
   "name": "python",
   "nbconvert_exporter": "python",
   "pygments_lexer": "ipython3",
   "version": "3.13.5"
  }
 },
 "nbformat": 4,
 "nbformat_minor": 5
}
