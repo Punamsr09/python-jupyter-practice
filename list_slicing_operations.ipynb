{
  "nbformat": 4,
  "nbformat_minor": 0,
  "metadata": {
    "colab": {
      "provenance": [],
      "authorship_tag": "ABX9TyOSHPyqIGGR1BhzFHTjB6RB"
    },
    "kernelspec": {
      "name": "python3",
      "display_name": "Python 3"
    },
    "language_info": {
      "name": "python"
    }
  },
  "cells": [
    {
      "cell_type": "code",
      "execution_count": null,
      "metadata": {
        "colab": {
          "base_uri": "https://localhost:8080/"
        },
        "id": "L51I3y24ODUd",
        "outputId": "168fb577-da3d-4e91-b98d-1f31a2522ca9"
      },
      "outputs": [
        {
          "output_type": "stream",
          "name": "stdout",
          "text": [
            "snowboard bat ball\n"
          ]
        }
      ],
      "source": [
        "# list unpacking practice\n",
        "list_items = [\"snowboard\", \"bat\", \"ball\"]\n",
        "s, b, c = list_items\n",
        "print(s, b, c)"
      ]
    },
    {
      "cell_type": "code",
      "source": [
        "#list slicing\n",
        "list_items = [\"bat\", \"ball\", \"cat\", \"mat\", \"cup\", \"tea\"]\n",
        "list_items[0:3:2]\n",
        "list_items[1:4:2]\n",
        "list_items[0:5:1]"
      ],
      "metadata": {
        "colab": {
          "base_uri": "https://localhost:8080/"
        },
        "id": "He-rN-2TOIsD",
        "outputId": "b9021a84-adf2-4fcb-80cf-731de08d3720"
      },
      "execution_count": null,
      "outputs": [
        {
          "output_type": "execute_result",
          "data": {
            "text/plain": [
              "['bat', 'ball', 'cat', 'mat', 'cup']"
            ]
          },
          "metadata": {},
          "execution_count": 13
        }
      ]
    },
    {
      "cell_type": "code",
      "source": [
        "customer_ids = [\"c00001\", \"c00003\", \"c00004\", \"c00006\"]\n",
        "customer_ids"
      ],
      "metadata": {
        "colab": {
          "base_uri": "https://localhost:8080/"
        },
        "id": "iMwBHb-DV8YH",
        "outputId": "73a4f696-aac7-4bf8-8cf0-b301eb2b444e"
      },
      "execution_count": null,
      "outputs": [
        {
          "output_type": "execute_result",
          "data": {
            "text/plain": [
              "['c00001', 'c00003', 'c00004', 'c00006']"
            ]
          },
          "metadata": {},
          "execution_count": 14
        }
      ]
    },
    {
      "cell_type": "code",
      "source": [
        "\"c00003\" in customer_ids"
      ],
      "metadata": {
        "colab": {
          "base_uri": "https://localhost:8080/"
        },
        "id": "lirFJxxIZE_Z",
        "outputId": "5703402f-666d-456f-b337-f37be118de8a"
      },
      "execution_count": null,
      "outputs": [
        {
          "output_type": "execute_result",
          "data": {
            "text/plain": [
              "True"
            ]
          },
          "metadata": {},
          "execution_count": 16
        }
      ]
    },
    {
      "cell_type": "code",
      "source": [
        "\"c00005\" not in customer_ids"
      ],
      "metadata": {
        "colab": {
          "base_uri": "https://localhost:8080/"
        },
        "id": "-4vlc4Y7ZrBG",
        "outputId": "7edd2cf7-a884-4111-dc37-4d759d0f080d"
      },
      "execution_count": null,
      "outputs": [
        {
          "output_type": "execute_result",
          "data": {
            "text/plain": [
              "True"
            ]
          },
          "metadata": {},
          "execution_count": 17
        }
      ]
    },
    {
      "cell_type": "code",
      "source": [
        "\"c00005\" in customer_ids"
      ],
      "metadata": {
        "colab": {
          "base_uri": "https://localhost:8080/"
        },
        "id": "0WarVDwRZ3b3",
        "outputId": "9a6093b4-ebaa-4567-a878-f377d45ecf24"
      },
      "execution_count": null,
      "outputs": [
        {
          "output_type": "execute_result",
          "data": {
            "text/plain": [
              "False"
            ]
          },
          "metadata": {},
          "execution_count": 18
        }
      ]
    },
    {
      "cell_type": "code",
      "source": [
        "#create a list customers that made purchases on Black Friday\n",
        "customer_list = [\"c00001\", \"c00002\", \"c00003\", \"c00004\",\n",
        "\"c00005\", \"c00006\", \"c00007\", \"c00009\",\n",
        "\"c00010\", \"c00012\", \"c00029\" ]\n",
        "customer_list"
      ],
      "metadata": {
        "colab": {
          "base_uri": "https://localhost:8080/"
        },
        "id": "GN2EqRs2aQ76",
        "outputId": "dbc1b345-56d1-4d48-ae00-e702a45c1753"
      },
      "execution_count": null,
      "outputs": [
        {
          "output_type": "execute_result",
          "data": {
            "text/plain": [
              "['c00001',\n",
              " 'c00002',\n",
              " 'c00003',\n",
              " 'c00004',\n",
              " 'c00005',\n",
              " 'c00006',\n",
              " 'c00007',\n",
              " 'c00009',\n",
              " 'c00010',\n",
              " 'c00012',\n",
              " 'c00029']"
            ]
          },
          "metadata": {},
          "execution_count": 27
        }
      ]
    },
    {
      "cell_type": "code",
      "source": [
        "# Did c00008 made a purchase?\n",
        "\n",
        "\n",
        "(\"c00008\" in customer_list) * 99.99"
      ],
      "metadata": {
        "colab": {
          "base_uri": "https://localhost:8080/"
        },
        "id": "WjOKT9FfgUYb",
        "outputId": "419033a1-feda-4b43-83f3-74fffffbb8f7"
      },
      "execution_count": null,
      "outputs": [
        {
          "output_type": "execute_result",
          "data": {
            "text/plain": [
              "0.0"
            ]
          },
          "metadata": {},
          "execution_count": 26
        }
      ]
    },
    {
      "cell_type": "code",
      "source": [
        "# Market research samples\n",
        "# using slicing create a list containing the fifth and sixth customer in the list called firth_sixth\n",
        "fifth_sixth = customer_list[4:6]\n",
        "fifth_sixth"
      ],
      "metadata": {
        "colab": {
          "base_uri": "https://localhost:8080/"
        },
        "id": "SDqWTVslge3r",
        "outputId": "084e346d-f890-4d1f-9717-8fb813fd021b"
      },
      "execution_count": null,
      "outputs": [
        {
          "output_type": "execute_result",
          "data": {
            "text/plain": [
              "['c00005', 'c00006']"
            ]
          },
          "metadata": {},
          "execution_count": 29
        }
      ]
    },
    {
      "cell_type": "code",
      "source": [
        "# create a list called every_third customer that contains every third customer (ex- 1st, 4rth, 7th, and so on)\n",
        "every_third = customer_list[0:12:3]\n",
        "every_third"
      ],
      "metadata": {
        "colab": {
          "base_uri": "https://localhost:8080/"
        },
        "id": "Sup5xf4ViYUv",
        "outputId": "e5e28df9-c009-4774-c732-663986a94f63"
      },
      "execution_count": null,
      "outputs": [
        {
          "output_type": "execute_result",
          "data": {
            "text/plain": [
              "['c00001', 'c00004', 'c00007', 'c00012']"
            ]
          },
          "metadata": {},
          "execution_count": 31
        }
      ]
    },
    {
      "cell_type": "code",
      "source": [
        "# using slicing create a list with the last two customers in our data set called last_two\n",
        "last_two = customer_list[-2:]\n",
        "last_two"
      ],
      "metadata": {
        "colab": {
          "base_uri": "https://localhost:8080/"
        },
        "id": "7XQ59qstlwQX",
        "outputId": "6b014e6b-e744-434b-e01f-9330c62ab509"
      },
      "execution_count": null,
      "outputs": [
        {
          "output_type": "execute_result",
          "data": {
            "text/plain": [
              "['c00012', 'c00029']"
            ]
          },
          "metadata": {},
          "execution_count": 36
        }
      ]
    },
    {
      "cell_type": "code",
      "source": [
        "list = [\"gloves\", \"potato\",\"chips\", \"pink\"]\n",
        "list[3] = \"pink\"\n",
        "list"
      ],
      "metadata": {
        "colab": {
          "base_uri": "https://localhost:8080/"
        },
        "id": "GPeqBc_DmrK_",
        "outputId": "05627ea1-e6cc-4120-f26a-483603ec5c75"
      },
      "execution_count": null,
      "outputs": [
        {
          "output_type": "execute_result",
          "data": {
            "text/plain": [
              "['gloves', 'potato', 'chips', 'pink']"
            ]
          },
          "metadata": {},
          "execution_count": 49
        }
      ]
    },
    {
      "cell_type": "code",
      "source": [
        "#adding a new customer\n",
        "customer_list.append(\"c00008\")\n",
        "customer_list"
      ],
      "metadata": {
        "colab": {
          "base_uri": "https://localhost:8080/"
        },
        "id": "2NUt2cdgwhFI",
        "outputId": "7a03ad69-d6fa-4fd0-f6bc-10d53baefd05"
      },
      "execution_count": null,
      "outputs": [
        {
          "output_type": "execute_result",
          "data": {
            "text/plain": [
              "['c00001',\n",
              " 'c00002',\n",
              " 'c00003',\n",
              " 'c00004',\n",
              " 'c00005',\n",
              " 'c00006',\n",
              " 'c00007',\n",
              " 'c00009',\n",
              " 'c00010',\n",
              " 'c00012',\n",
              " 'c00029',\n",
              " 'c00008']"
            ]
          },
          "metadata": {},
          "execution_count": 50
        }
      ]
    },
    {
      "cell_type": "code",
      "source": [
        "# Deleting a customer with del\n",
        "del customer_list[2]\n",
        "\n",
        "customer_list"
      ],
      "metadata": {
        "colab": {
          "base_uri": "https://localhost:8080/"
        },
        "id": "wHJ8idq43vLv",
        "outputId": "b2d04db3-c354-42d6-f2ef-9de8be145628"
      },
      "execution_count": null,
      "outputs": [
        {
          "output_type": "execute_result",
          "data": {
            "text/plain": [
              "['c00001',\n",
              " 'c00002',\n",
              " 'c00004',\n",
              " 'c00005',\n",
              " 'c00006',\n",
              " 'c00007',\n",
              " 'c00009',\n",
              " 'c00010',\n",
              " 'c00012',\n",
              " 'c00029',\n",
              " 'c00008']"
            ]
          },
          "metadata": {},
          "execution_count": 56
        }
      ]
    },
    {
      "cell_type": "code",
      "source": [
        "# Adding a customer with insert, by using indexing\n",
        "customer_list.insert(2, 'C00003')\n",
        "customer_list"
      ],
      "metadata": {
        "colab": {
          "base_uri": "https://localhost:8080/"
        },
        "id": "2oBLtjK05Qev",
        "outputId": "e14d2315-e43d-4697-9c8f-f2ae642129a0"
      },
      "execution_count": null,
      "outputs": [
        {
          "output_type": "execute_result",
          "data": {
            "text/plain": [
              "['c00001',\n",
              " 'c00002',\n",
              " 'C00003',\n",
              " 'c00004',\n",
              " 'c00005',\n",
              " 'c00006',\n",
              " 'c00007',\n",
              " 'c00009',\n",
              " 'c00010',\n",
              " 'c00012',\n",
              " 'c00029',\n",
              " 'c00008']"
            ]
          },
          "metadata": {},
          "execution_count": 57
        }
      ]
    },
    {
      "cell_type": "code",
      "source": [
        "del customer_list[11]\n",
        "customer_list"
      ],
      "metadata": {
        "colab": {
          "base_uri": "https://localhost:8080/"
        },
        "id": "le066MMm6Q8m",
        "outputId": "96de8020-8e65-4b50-be73-bc9eba8217b8"
      },
      "execution_count": null,
      "outputs": [
        {
          "output_type": "execute_result",
          "data": {
            "text/plain": [
              "['c00001',\n",
              " 'c00002',\n",
              " 'C00003',\n",
              " 'c00004',\n",
              " 'c00005',\n",
              " 'c00006',\n",
              " 'c00007',\n",
              " 'c00009',\n",
              " 'c00010',\n",
              " 'c00012',\n",
              " 'c00029']"
            ]
          },
          "metadata": {},
          "execution_count": 58
        }
      ]
    },
    {
      "cell_type": "code",
      "source": [],
      "metadata": {
        "id": "nqg8oeCb72GK"
      },
      "execution_count": null,
      "outputs": []
    }
  ]
}