{
  "nbformat": 4,
  "nbformat_minor": 0,
  "metadata": {
    "colab": {
      "provenance": [],
      "authorship_tag": "ABX9TyPuAliZh6ix+d1GEjsSB6pn",
      "include_colab_link": true
    },
    "kernelspec": {
      "name": "python3",
      "display_name": "Python 3"
    },
    "language_info": {
      "name": "python"
    }
  },
  "cells": [
    {
      "cell_type": "markdown",
      "metadata": {
        "id": "view-in-github",
        "colab_type": "text"
      },
      "source": [
        "<a href=\"https://colab.research.google.com/github/Punamsr09/python-jupyter-practice/blob/main/Nested_logic.ipynb\" target=\"_parent\"><img src=\"https://colab.research.google.com/assets/colab-badge.svg\" alt=\"Open In Colab\"/></a>"
      ]
    },
    {
      "cell_type": "code",
      "execution_count": null,
      "metadata": {
        "colab": {
          "base_uri": "https://localhost:8080/"
        },
        "id": "CcT4L9J2Agok",
        "outputId": "53096f9e-07a4-4d68-f7d2-c094654e282e"
      },
      "outputs": [
        {
          "output_type": "stream",
          "name": "stdout",
          "text": [
            "Low stock\n"
          ]
        }
      ],
      "source": [
        "\n",
        "# Nested_logic\n",
        "\n",
        "inventory = 3\n",
        "\n",
        "if inventory <= 5:\n",
        "  print('Low stock')\n",
        "elif inventory == 0:\n",
        "  print('Out off stock')\n",
        "else:\n",
        "  print('In stock')\n"
      ]
    },
    {
      "cell_type": "code",
      "source": [
        "inventory = 6\n",
        "\n",
        "if inventory <= 5:\n",
        "  print('Low stock')\n",
        "elif inventory == 0:\n",
        "  print('Out of stock')\n",
        "else:\n",
        "  print('In stock')"
      ],
      "metadata": {
        "colab": {
          "base_uri": "https://localhost:8080/"
        },
        "id": "KQm1DwpSB62i",
        "outputId": "798c376a-3e7b-4547-ede7-cf619c01896d"
      },
      "execution_count": null,
      "outputs": [
        {
          "output_type": "stream",
          "name": "stdout",
          "text": [
            "In stock\n"
          ]
        }
      ]
    },
    {
      "cell_type": "code",
      "source": [
        "inventory = 4\n",
        "customer_name = \"Mark\"\n",
        "\n",
        "if inventory <=0:\n",
        "  if customer_name == \"Mark\":\n",
        "      print('you can have the display model, sir!')\n",
        "  else:\n",
        "      print('Out of stock')\n",
        "elif inventory <=5:\n",
        "    print('Stock is low')\n",
        "else:\n",
        "    print('In stock')\n",
        "\n"
      ],
      "metadata": {
        "colab": {
          "base_uri": "https://localhost:8080/"
        },
        "id": "xwcRnzNTCUVY",
        "outputId": "7e4875b5-2d81-4c7b-e165-95e3b0f28bc4"
      },
      "execution_count": null,
      "outputs": [
        {
          "output_type": "stream",
          "name": "stdout",
          "text": [
            "Stock is low\n"
          ]
        }
      ]
    },
    {
      "cell_type": "code",
      "source": [],
      "metadata": {
        "id": "3RZVvJk0Xpdi"
      },
      "execution_count": null,
      "outputs": []
    }
  ]
}