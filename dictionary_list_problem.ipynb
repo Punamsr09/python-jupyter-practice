{
  "nbformat": 4,
  "nbformat_minor": 0,
  "metadata": {
    "colab": {
      "provenance": [],
      "authorship_tag": "ABX9TyMbM4dB29ATo1pX4nlswuR7"
    },
    "kernelspec": {
      "name": "python3",
      "display_name": "Python 3"
    },
    "language_info": {
      "name": "python"
    }
  },
  "cells": [
    {
      "cell_type": "code",
      "execution_count": 9,
      "metadata": {
        "colab": {
          "base_uri": "https://localhost:8080/"
        },
        "id": "HcSgV2RQT-uj",
        "outputId": "783e7680-f002-46cf-fa1d-0d83c4db99ad"
      },
      "outputs": [
        {
          "output_type": "stream",
          "name": "stdout",
          "text": [
            "how are you feeling today?(happy/sad/angry/stressed/bored):stressed\n",
            "since you are feeling stressed, you could: journal\n"
          ]
        }
      ],
      "source": [
        "# mood_tracker_APP:\n",
        "# people input how they feel, based on that the mood tracker app will suggest to do some activities.\n",
        "\n",
        "import random\n",
        "mood_activities = {\n",
        "    'happy' : ['go for an icecream','call a friend', 'listen to music'],\n",
        "    'sad' : ['exercise', 'watch a funny movie', 'painting'],\n",
        "    'angry' : ['listen your favorite music', 'do breathing exercise', 'take a hot shower'],\n",
        "    'stressed' : ['meditate', 'journal', 'exercise'],\n",
        "    'bored' : ['play a game', 'try a new recepe', 'craete something DIY']\n",
        "}\n",
        "\n",
        "# Ask user for their mood\n",
        "mood = input('how are you feeling today?(happy/sad/angry/stressed/bored):')\n",
        "# suggest an activity\n",
        "\n",
        "if mood in mood_activities:\n",
        "  suggestion = random.choice(mood_activities[mood])\n",
        "  print(f'since you are feeling {mood}, you could: {suggestion}')\n",
        "else:\n",
        "  print(f'sorry, I do not have a suggestion for that mood. try another one!')\n",
        "\n"
      ]
    },
    {
      "cell_type": "code",
      "source": [],
      "metadata": {
        "id": "DURldCvjehKQ"
      },
      "execution_count": null,
      "outputs": []
    }
  ]
}